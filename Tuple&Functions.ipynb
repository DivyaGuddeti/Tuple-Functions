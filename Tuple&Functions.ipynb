{
 "cells": [
  {
   "cell_type": "markdown",
   "id": "71912cf0-09f5-40b9-82eb-71d1178aa3cd",
   "metadata": {},
   "source": [
    "# 23rd APril - Tuple data structure and it's Functions"
   ]
  },
  {
   "cell_type": "code",
   "execution_count": 23,
   "id": "1f324b2c-f626-4cd7-8a2a-3cbb246f03c0",
   "metadata": {},
   "outputs": [
    {
     "data": {
      "text/plain": [
       "['p', 'k', 'z', 'a', 'd']"
      ]
     },
     "execution_count": 23,
     "metadata": {},
     "output_type": "execute_result"
    }
   ],
   "source": [
    "l = ['p','k','z','a','d']\n",
    "\n",
    "l"
   ]
  },
  {
   "cell_type": "code",
   "execution_count": 24,
   "id": "7b128378-72a4-4b93-bc28-6a1deba411a0",
   "metadata": {},
   "outputs": [
    {
     "data": {
      "text/plain": [
       "['a', 'd', 'k', 'p', 'z']"
      ]
     },
     "execution_count": 24,
     "metadata": {},
     "output_type": "execute_result"
    }
   ],
   "source": [
    "l.sort() #system built parameters are called \"Parameter-Tuning\"  \n",
    "\n",
    "l"
   ]
  },
  {
   "cell_type": "code",
   "execution_count": 25,
   "id": "33caf8d8-2b99-4b53-9e61-38b9b3ae6a57",
   "metadata": {},
   "outputs": [
    {
     "data": {
      "text/plain": [
       "['z', 'p', 'k', 'd', 'a']"
      ]
     },
     "execution_count": 25,
     "metadata": {},
     "output_type": "execute_result"
    }
   ],
   "source": [
    "l.sort(reverse=True) #user modifying the system built parameters are called \"Hyper-parameter Tuning\"\n",
    "\n",
    "l"
   ]
  },
  {
   "cell_type": "code",
   "execution_count": 26,
   "id": "03f87da1-dd61-4614-a855-4564328f62c2",
   "metadata": {},
   "outputs": [
    {
     "data": {
      "text/plain": [
       "(10, 50, 30, 20, 60, 10, 40, 100, 20)"
      ]
     },
     "execution_count": 26,
     "metadata": {},
     "output_type": "execute_result"
    }
   ],
   "source": [
    "t = (10,50,30,20,60,10,40,100,20)\n",
    "\n",
    "t"
   ]
  },
  {
   "cell_type": "code",
   "execution_count": 27,
   "id": "0d8d576c-615f-49ee-8a09-acaa16ff9c19",
   "metadata": {},
   "outputs": [
    {
     "name": "stdout",
     "output_type": "stream",
     "text": [
      "10\n",
      "50\n",
      "30\n",
      "20\n",
      "60\n",
      "10\n",
      "40\n",
      "100\n",
      "20\n"
     ]
    }
   ],
   "source": [
    "for i in t:\n",
    "    print(i)"
   ]
  },
  {
   "cell_type": "code",
   "execution_count": 28,
   "id": "0ab45b15-1133-4326-af58-8b91ceb2cca5",
   "metadata": {},
   "outputs": [
    {
     "data": {
      "text/plain": [
       "9"
      ]
     },
     "execution_count": 28,
     "metadata": {},
     "output_type": "execute_result"
    }
   ],
   "source": [
    "len(t)"
   ]
  },
  {
   "cell_type": "code",
   "execution_count": 29,
   "id": "a190dbc8-6ed6-4457-b0fd-ea707bb40fd0",
   "metadata": {},
   "outputs": [
    {
     "data": {
      "text/plain": [
       "2"
      ]
     },
     "execution_count": 29,
     "metadata": {},
     "output_type": "execute_result"
    }
   ],
   "source": [
    "t.count(10) #returns the number of occurances of the specified element"
   ]
  },
  {
   "cell_type": "code",
   "execution_count": 30,
   "id": "0c4d250b-d36c-4e67-95c4-b30df0559c62",
   "metadata": {},
   "outputs": [
    {
     "data": {
      "text/plain": [
       "7"
      ]
     },
     "execution_count": 30,
     "metadata": {},
     "output_type": "execute_result"
    }
   ],
   "source": [
    "t.index(100) #returns the index of the 1st occurance of the specified element"
   ]
  },
  {
   "cell_type": "code",
   "execution_count": 31,
   "id": "0813d128-e7c8-4f02-b6f1-9837b0462bdc",
   "metadata": {},
   "outputs": [
    {
     "data": {
      "text/plain": [
       "0"
      ]
     },
     "execution_count": 31,
     "metadata": {},
     "output_type": "execute_result"
    }
   ],
   "source": [
    "t.index(10)"
   ]
  },
  {
   "cell_type": "markdown",
   "id": "9a290aa3-63af-4491-814c-5dc0701a49f5",
   "metadata": {},
   "source": [
    "# Tuple Membership"
   ]
  },
  {
   "cell_type": "code",
   "execution_count": 32,
   "id": "047fa5a8-a7bd-4be9-bef7-c73d2121c7ce",
   "metadata": {},
   "outputs": [
    {
     "data": {
      "text/plain": [
       "True"
      ]
     },
     "execution_count": 32,
     "metadata": {},
     "output_type": "execute_result"
    }
   ],
   "source": [
    "10 in t #checks whether the specified value is present and if yes prints True else prints False"
   ]
  },
  {
   "cell_type": "code",
   "execution_count": 33,
   "id": "412bffe4-99d3-4acd-b34e-7a87bfabe0d6",
   "metadata": {},
   "outputs": [
    {
     "data": {
      "text/plain": [
       "False"
      ]
     },
     "execution_count": 33,
     "metadata": {},
     "output_type": "execute_result"
    }
   ],
   "source": [
    "65 in t"
   ]
  },
  {
   "cell_type": "code",
   "execution_count": 34,
   "id": "47695472-863a-4852-bd66-e88576f7bbef",
   "metadata": {},
   "outputs": [
    {
     "name": "stdout",
     "output_type": "stream",
     "text": [
      "(0, 10)\n",
      "(1, 50)\n",
      "(2, 30)\n",
      "(3, 20)\n",
      "(4, 60)\n",
      "(5, 10)\n",
      "(6, 40)\n",
      "(7, 100)\n",
      "(8, 20)\n"
     ]
    }
   ],
   "source": [
    "for i in enumerate(t): #enumerate returns the pair of index and corresponding values (index,value)\n",
    "    print(i)"
   ]
  },
  {
   "cell_type": "code",
   "execution_count": 35,
   "id": "043cdba0-cb6e-4a62-9213-6a7bb002ad2f",
   "metadata": {},
   "outputs": [
    {
     "data": {
      "text/plain": [
       "(1, 3.5, 'Sai', (1+2j), True, [10, 30, 20], (1, 3, 5), False)"
      ]
     },
     "execution_count": 35,
     "metadata": {},
     "output_type": "execute_result"
    }
   ],
   "source": [
    "t2 = (1,3.5,\"Sai\",1+2j,True,[10,30,20],(1,3,5),False) # tuple accepts different datatype values\n",
    "\n",
    "t2"
   ]
  },
  {
   "cell_type": "code",
   "execution_count": 36,
   "id": "5bcf3cde-9c51-42b2-bc70-48adcb5e2ecc",
   "metadata": {},
   "outputs": [
    {
     "data": {
      "text/plain": [
       "False"
      ]
     },
     "execution_count": 36,
     "metadata": {},
     "output_type": "execute_result"
    }
   ],
   "source": [
    "all(t2) #returns True only when none of the elements are False/0"
   ]
  },
  {
   "cell_type": "code",
   "execution_count": 37,
   "id": "c7d9ab66-2142-4f60-ac4a-c522930fcacc",
   "metadata": {},
   "outputs": [
    {
     "data": {
      "text/plain": [
       "True"
      ]
     },
     "execution_count": 37,
     "metadata": {},
     "output_type": "execute_result"
    }
   ],
   "source": [
    "any(t2) #returns True if any of the elements is True/1"
   ]
  },
  {
   "cell_type": "code",
   "execution_count": 38,
   "id": "940b29c9-27dd-466a-82d7-31483cce5690",
   "metadata": {},
   "outputs": [
    {
     "name": "stdout",
     "output_type": "stream",
     "text": [
      "1\n",
      "3.5\n",
      "Sai\n",
      "(1+2j)\n",
      "True\n",
      "[10, 30, 20]\n",
      "(1, 3, 5)\n",
      "False\n"
     ]
    }
   ],
   "source": [
    "for i in t2:\n",
    "    print(i)"
   ]
  },
  {
   "cell_type": "code",
   "execution_count": 39,
   "id": "e5c1657f-0831-43da-a164-2e3b8d669b89",
   "metadata": {},
   "outputs": [
    {
     "data": {
      "text/plain": [
       "2"
      ]
     },
     "execution_count": 39,
     "metadata": {},
     "output_type": "execute_result"
    }
   ],
   "source": [
    "t2.index(\"Sai\")"
   ]
  },
  {
   "cell_type": "code",
   "execution_count": 40,
   "id": "d25f0a99-baa3-4a58-88e3-817b935cddc3",
   "metadata": {},
   "outputs": [
    {
     "data": {
      "text/plain": [
       "(1, 3.5, 'Sai', (1+2j), True, [10, 30, 20], (1, 3, 5), False)"
      ]
     },
     "execution_count": 40,
     "metadata": {},
     "output_type": "execute_result"
    }
   ],
   "source": [
    "t2[:] #returns whole tuple values"
   ]
  },
  {
   "cell_type": "code",
   "execution_count": 41,
   "id": "a3fe1637-2845-424a-bdaf-03b8e83813aa",
   "metadata": {},
   "outputs": [
    {
     "data": {
      "text/plain": [
       "((1+2j), True, [10, 30, 20], (1, 3, 5), False)"
      ]
     },
     "execution_count": 41,
     "metadata": {},
     "output_type": "execute_result"
    }
   ],
   "source": [
    "t2[3:10] #returns values from index 3 till n-1 i.e, 9"
   ]
  },
  {
   "cell_type": "code",
   "execution_count": 42,
   "id": "2136c198-c175-4ee7-97e3-8b0c3e57f5ef",
   "metadata": {},
   "outputs": [
    {
     "data": {
      "text/plain": [
       "()"
      ]
     },
     "execution_count": 42,
     "metadata": {},
     "output_type": "execute_result"
    }
   ],
   "source": [
    "t2[10:] #as the index provided is out of range, it will return a null tuple"
   ]
  },
  {
   "cell_type": "code",
   "execution_count": 43,
   "id": "7a3e826c-46d9-4f1c-a47d-be2c8b0daf7a",
   "metadata": {},
   "outputs": [
    {
     "ename": "IndexError",
     "evalue": "tuple index out of range",
     "output_type": "error",
     "traceback": [
      "\u001b[1;31m---------------------------------------------------------------------------\u001b[0m",
      "\u001b[1;31mIndexError\u001b[0m                                Traceback (most recent call last)",
      "Cell \u001b[1;32mIn[43], line 1\u001b[0m\n\u001b[1;32m----> 1\u001b[0m t2[\u001b[38;5;241m10\u001b[39m]\n",
      "\u001b[1;31mIndexError\u001b[0m: tuple index out of range"
     ]
    }
   ],
   "source": [
    "t2[10] #invalid as the index provided is out of range"
   ]
  },
  {
   "cell_type": "code",
   "execution_count": 44,
   "id": "d50b4579-7692-444d-9db3-b177c7ca05f0",
   "metadata": {},
   "outputs": [
    {
     "data": {
      "text/plain": [
       "(1, (1+2j), (1, 3, 5))"
      ]
     },
     "execution_count": 44,
     "metadata": {},
     "output_type": "execute_result"
    }
   ],
   "source": [
    "t2[::3] #returns the values with step count 3"
   ]
  },
  {
   "cell_type": "code",
   "execution_count": 45,
   "id": "9d484b4e-594e-4c0a-91f1-d441a0d2b961",
   "metadata": {},
   "outputs": [
    {
     "data": {
      "text/plain": [
       "False"
      ]
     },
     "execution_count": 45,
     "metadata": {},
     "output_type": "execute_result"
    }
   ],
   "source": [
    "t2[-1] #returns the last index value"
   ]
  },
  {
   "cell_type": "code",
   "execution_count": 46,
   "id": "37f45ea0-5283-4de5-9114-757e9710635e",
   "metadata": {},
   "outputs": [
    {
     "data": {
      "text/plain": [
       "(False, (1, 3, 5), [10, 30, 20], True, (1+2j), 'Sai', 3.5, 1)"
      ]
     },
     "execution_count": 46,
     "metadata": {},
     "output_type": "execute_result"
    }
   ],
   "source": [
    "t2[::-1] #prints the values in reverse order as we're providing the backward indexing"
   ]
  },
  {
   "cell_type": "code",
   "execution_count": 47,
   "id": "0a712be6-47ea-4233-a625-29ca25b19165",
   "metadata": {},
   "outputs": [
    {
     "data": {
      "text/plain": [
       "(1, 3.5, 'Sai', (1+2j), True, [10, 30, 20], (1, 3, 5), False)"
      ]
     },
     "execution_count": 47,
     "metadata": {},
     "output_type": "execute_result"
    }
   ],
   "source": [
    "t2"
   ]
  },
  {
   "cell_type": "code",
   "execution_count": 48,
   "id": "415119d4-87cd-48ad-a14c-cf129afb4095",
   "metadata": {},
   "outputs": [
    {
     "data": {
      "text/plain": [
       "(10, 50, 30, 20, 60, 10, 40, 100, 20)"
      ]
     },
     "execution_count": 48,
     "metadata": {},
     "output_type": "execute_result"
    }
   ],
   "source": [
    "t"
   ]
  },
  {
   "cell_type": "code",
   "execution_count": 49,
   "id": "d2389d44-793a-4b8d-8fa9-2508440885fc",
   "metadata": {},
   "outputs": [
    {
     "data": {
      "text/plain": [
       "[10, 10, 20, 20, 30, 40, 50, 60, 100]"
      ]
     },
     "execution_count": 49,
     "metadata": {},
     "output_type": "execute_result"
    }
   ],
   "source": [
    "sorted(t) #sorts the values in ascending order"
   ]
  },
  {
   "cell_type": "code",
   "execution_count": 50,
   "id": "4bca9ff7-ede6-4ff0-baf5-2c7b91b32d90",
   "metadata": {},
   "outputs": [
    {
     "data": {
      "text/plain": [
       "[100, 60, 50, 40, 30, 20, 20, 10, 10]"
      ]
     },
     "execution_count": 50,
     "metadata": {},
     "output_type": "execute_result"
    }
   ],
   "source": [
    "sorted(t,reverse=True) #sorts the values in descending order"
   ]
  },
  {
   "cell_type": "code",
   "execution_count": 51,
   "id": "e2837bf2-7a10-430e-a4b7-141b463c37c9",
   "metadata": {},
   "outputs": [
    {
     "data": {
      "text/plain": [
       "(1, 3.5, 'Sai', (1+2j), True, [10, 30, 20], (1, 3, 5), False)"
      ]
     },
     "execution_count": 51,
     "metadata": {},
     "output_type": "execute_result"
    }
   ],
   "source": [
    "t2"
   ]
  },
  {
   "cell_type": "code",
   "execution_count": 52,
   "id": "29035c4f-b883-45d2-a9fc-0a64030dff2d",
   "metadata": {},
   "outputs": [
    {
     "ename": "TypeError",
     "evalue": "'tuple' object does not support item assignment",
     "output_type": "error",
     "traceback": [
      "\u001b[1;31m---------------------------------------------------------------------------\u001b[0m",
      "\u001b[1;31mTypeError\u001b[0m                                 Traceback (most recent call last)",
      "Cell \u001b[1;32mIn[52], line 1\u001b[0m\n\u001b[1;32m----> 1\u001b[0m t2[\u001b[38;5;241m5\u001b[39m] \u001b[38;5;241m=\u001b[39m \u001b[38;5;241m40\u001b[39m\n",
      "\u001b[1;31mTypeError\u001b[0m: 'tuple' object does not support item assignment"
     ]
    }
   ],
   "source": [
    "t2[5] = 40 #invalid as the tupe is immutable(can't modify the values dynamically)"
   ]
  },
  {
   "cell_type": "code",
   "execution_count": 53,
   "id": "d15e010c-5f28-4539-ab4b-cb55a3831c44",
   "metadata": {},
   "outputs": [
    {
     "data": {
      "text/plain": [
       "10"
      ]
     },
     "execution_count": 53,
     "metadata": {},
     "output_type": "execute_result"
    }
   ],
   "source": [
    "t2[5][0]"
   ]
  },
  {
   "cell_type": "code",
   "execution_count": 54,
   "id": "34be73a6-cc9a-45d3-9210-47491750ecf2",
   "metadata": {},
   "outputs": [
    {
     "name": "stdout",
     "output_type": "stream",
     "text": [
      "10\n",
      "30\n",
      "20\n"
     ]
    }
   ],
   "source": [
    "for i in range(3):\n",
    "    print(t2[5][i])"
   ]
  },
  {
   "cell_type": "code",
   "execution_count": 55,
   "id": "613ed29b-af32-41ba-ab35-332693fad86e",
   "metadata": {},
   "outputs": [
    {
     "data": {
      "text/plain": [
       "20"
      ]
     },
     "execution_count": 55,
     "metadata": {},
     "output_type": "execute_result"
    }
   ],
   "source": [
    "t2[5][2]"
   ]
  },
  {
   "cell_type": "code",
   "execution_count": 56,
   "id": "173ddb8e-7061-4364-9221-1ba36c58015e",
   "metadata": {},
   "outputs": [
    {
     "data": {
      "text/plain": [
       "(10, 50, 30, 20, 60, 10, 40, 100, 20, 10, 50, 30, 20, 60, 10, 40, 100, 20)"
      ]
     },
     "execution_count": 56,
     "metadata": {},
     "output_type": "execute_result"
    }
   ],
   "source": [
    "t3 = t * 2 # repeats the tuple values specified number of times\n",
    "\n",
    "t3"
   ]
  },
  {
   "cell_type": "code",
   "execution_count": 57,
   "id": "d0885946-0eac-4a48-9ea9-982bd37a9acb",
   "metadata": {},
   "outputs": [
    {
     "ename": "TypeError",
     "evalue": "'tuple' object doesn't support item deletion",
     "output_type": "error",
     "traceback": [
      "\u001b[1;31m---------------------------------------------------------------------------\u001b[0m",
      "\u001b[1;31mTypeError\u001b[0m                                 Traceback (most recent call last)",
      "Cell \u001b[1;32mIn[57], line 1\u001b[0m\n\u001b[1;32m----> 1\u001b[0m \u001b[38;5;28;01mdel\u001b[39;00m t2[\u001b[38;5;241m5\u001b[39m]\n",
      "\u001b[1;31mTypeError\u001b[0m: 'tuple' object doesn't support item deletion"
     ]
    }
   ],
   "source": [
    "del t2[5] #invalid as tuple doesn't allow deleting the items"
   ]
  },
  {
   "cell_type": "code",
   "execution_count": 58,
   "id": "94289f1a-ea17-448a-8c32-8efd6076b87c",
   "metadata": {},
   "outputs": [],
   "source": [
    "del t3 #whole tuple deletion is valid"
   ]
  },
  {
   "cell_type": "code",
   "execution_count": 59,
   "id": "1c5cf929-59e5-41ea-9005-625cf6beab9b",
   "metadata": {},
   "outputs": [
    {
     "ename": "NameError",
     "evalue": "name 't3' is not defined",
     "output_type": "error",
     "traceback": [
      "\u001b[1;31m---------------------------------------------------------------------------\u001b[0m",
      "\u001b[1;31mNameError\u001b[0m                                 Traceback (most recent call last)",
      "Cell \u001b[1;32mIn[59], line 1\u001b[0m\n\u001b[1;32m----> 1\u001b[0m t3\n",
      "\u001b[1;31mNameError\u001b[0m: name 't3' is not defined"
     ]
    }
   ],
   "source": [
    "t3"
   ]
  },
  {
   "cell_type": "code",
   "execution_count": 60,
   "id": "f7594ac3-7be5-48a9-a600-64153871b4b4",
   "metadata": {},
   "outputs": [
    {
     "data": {
      "text/plain": [
       "('one', 'five', 'three', 'two', 'six', 'four')"
      ]
     },
     "execution_count": 60,
     "metadata": {},
     "output_type": "execute_result"
    }
   ],
   "source": [
    "t3 = (\"one\", \"five\", \"three\", \"two\", \"six\", \"four\")\n",
    "\n",
    "t3"
   ]
  },
  {
   "cell_type": "code",
   "execution_count": 61,
   "id": "c81c18dd-3e8f-40ba-b6e5-a48c18b0bbd3",
   "metadata": {},
   "outputs": [
    {
     "name": "stdout",
     "output_type": "stream",
     "text": [
      "Five is present in Tuple t3\n"
     ]
    }
   ],
   "source": [
    "if 'five' in t3:\n",
    "    print(\"Five is present in Tuple t3\")\n",
    "else:\n",
    "    print(\"Five doesn't present in Tuple t3\")"
   ]
  },
  {
   "cell_type": "code",
   "execution_count": 62,
   "id": "f5b08c29-b359-43cf-a916-6db58e26c364",
   "metadata": {},
   "outputs": [
    {
     "name": "stdout",
     "output_type": "stream",
     "text": [
      "Ten doesn't present in Tuple t3\n"
     ]
    }
   ],
   "source": [
    "if 'ten' in t3:\n",
    "    print(\"Ten is present in Tuple t3\")\n",
    "else:\n",
    "    print(\"Ten doesn't present in Tuple t3\")"
   ]
  },
  {
   "cell_type": "code",
   "execution_count": 63,
   "id": "2cfac86f-9a6d-432f-9bf7-612ad85a923c",
   "metadata": {},
   "outputs": [
    {
     "data": {
      "text/plain": [
       "['five', 'four', 'one', 'six', 'three', 'two']"
      ]
     },
     "execution_count": 63,
     "metadata": {},
     "output_type": "execute_result"
    }
   ],
   "source": [
    "sorted(t3) #sorts the values in alphabetical ascending order --> this is Parameter Tuning"
   ]
  },
  {
   "cell_type": "code",
   "execution_count": 64,
   "id": "04015593-2e78-4f6d-a6c0-13861a91f1fc",
   "metadata": {},
   "outputs": [
    {
     "data": {
      "text/plain": [
       "['two', 'three', 'six', 'one', 'four', 'five']"
      ]
     },
     "execution_count": 64,
     "metadata": {},
     "output_type": "execute_result"
    }
   ],
   "source": [
    "sorted(t3,reverse=True) #sorts the values in alphabetical descending order --> this is Hyper parameter Tuning"
   ]
  },
  {
   "cell_type": "code",
   "execution_count": 65,
   "id": "72064391-a8c0-4119-9e5d-e1ae5dd9ffd0",
   "metadata": {},
   "outputs": [
    {
     "data": {
      "text/plain": [
       "('one', 'five', 'three', 'two', 'six', 'four')"
      ]
     },
     "execution_count": 65,
     "metadata": {},
     "output_type": "execute_result"
    }
   ],
   "source": [
    "t3"
   ]
  },
  {
   "cell_type": "code",
   "execution_count": 66,
   "id": "1cd69694-ff0a-4323-b32b-80087cfaf776",
   "metadata": {},
   "outputs": [
    {
     "name": "stdout",
     "output_type": "stream",
     "text": [
      "1 <class 'int'>\n",
      "3.5 <class 'float'>\n",
      "Sai <class 'str'>\n",
      "(1+2j) <class 'complex'>\n",
      "True <class 'bool'>\n",
      "[10, 30, 20] <class 'list'>\n",
      "(1, 3, 5) <class 'tuple'>\n",
      "False <class 'bool'>\n"
     ]
    }
   ],
   "source": [
    "for i in t2: \n",
    "    print(i,type(i)) #prints the tuple value and it's corresponding class type"
   ]
  },
  {
   "cell_type": "code",
   "execution_count": 67,
   "id": "1f7137a7-edc0-4ef3-992a-1a2db5b150bf",
   "metadata": {},
   "outputs": [
    {
     "data": {
      "text/plain": [
       "(1254, 'March 15', 825862, 'CPG479')"
      ]
     },
     "execution_count": 67,
     "metadata": {},
     "output_type": "execute_result"
    }
   ],
   "source": [
    "icici = (1254,\"March 15\",825862,\"CPG479\")\n",
    "\n",
    "icici"
   ]
  },
  {
   "cell_type": "code",
   "execution_count": 68,
   "id": "c29e89a1-5671-468e-9f65-4c7019bb72dc",
   "metadata": {},
   "outputs": [
    {
     "data": {
      "text/plain": [
       "(10, 50, 30, 20, 60, 10, 40, 100, 20)"
      ]
     },
     "execution_count": 68,
     "metadata": {},
     "output_type": "execute_result"
    }
   ],
   "source": [
    "t #duplicate values are allowed in Tuples"
   ]
  },
  {
   "cell_type": "code",
   "execution_count": 69,
   "id": "c7a8bc40-53b9-468c-acde-5a952b8a7cb7",
   "metadata": {},
   "outputs": [
    {
     "data": {
      "text/plain": [
       "False"
      ]
     },
     "execution_count": 69,
     "metadata": {},
     "output_type": "execute_result"
    }
   ],
   "source": [
    "t == t3 #compares whether the mentioned tuples are same or not"
   ]
  },
  {
   "cell_type": "code",
   "execution_count": 70,
   "id": "8d2294a2-24d4-4005-a80a-c4affa168075",
   "metadata": {},
   "outputs": [
    {
     "data": {
      "text/plain": [
       "True"
      ]
     },
     "execution_count": 70,
     "metadata": {},
     "output_type": "execute_result"
    }
   ],
   "source": [
    "any(t)"
   ]
  },
  {
   "cell_type": "code",
   "execution_count": 71,
   "id": "6c7c7d9e-2528-4a17-a135-cf9aa8965ab6",
   "metadata": {},
   "outputs": [
    {
     "data": {
      "text/plain": [
       "True"
      ]
     },
     "execution_count": 71,
     "metadata": {},
     "output_type": "execute_result"
    }
   ],
   "source": [
    "all(t)"
   ]
  },
  {
   "cell_type": "code",
   "execution_count": 72,
   "id": "2ff1e44d-92a8-442e-b953-4468c1534aff",
   "metadata": {},
   "outputs": [
    {
     "data": {
      "text/plain": [
       "True"
      ]
     },
     "execution_count": 72,
     "metadata": {},
     "output_type": "execute_result"
    }
   ],
   "source": [
    "any(icici)"
   ]
  },
  {
   "cell_type": "code",
   "execution_count": 73,
   "id": "8f47de59-9ff2-4fb2-91b3-283429dc6751",
   "metadata": {},
   "outputs": [
    {
     "data": {
      "text/plain": [
       "True"
      ]
     },
     "execution_count": 73,
     "metadata": {},
     "output_type": "execute_result"
    }
   ],
   "source": [
    "all(icici)"
   ]
  },
  {
   "cell_type": "code",
   "execution_count": null,
   "id": "d1d0c2ba-2cf9-4b45-8a90-71f5943f5500",
   "metadata": {},
   "outputs": [],
   "source": []
  }
 ],
 "metadata": {
  "kernelspec": {
   "display_name": "Python 3 (ipykernel)",
   "language": "python",
   "name": "python3"
  },
  "language_info": {
   "codemirror_mode": {
    "name": "ipython",
    "version": 3
   },
   "file_extension": ".py",
   "mimetype": "text/x-python",
   "name": "python",
   "nbconvert_exporter": "python",
   "pygments_lexer": "ipython3",
   "version": "3.12.7"
  }
 },
 "nbformat": 4,
 "nbformat_minor": 5
}
